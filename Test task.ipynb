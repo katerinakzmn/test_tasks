{
 "cells": [
  {
   "cell_type": "markdown",
   "id": "793427d2-6bf8-4bc0-8b96-b92a25bce44a",
   "metadata": {},
   "source": [
    "### Тестовое задание"
   ]
  },
  {
   "cell_type": "code",
   "execution_count": null,
   "id": "2dc0bde7-8220-4c33-a77e-af6be5a94356",
   "metadata": {},
   "outputs": [],
   "source": [
    "rounded_desc_act = desc_act_base.select(\n",
    "    *[\n",
    "        F.when(F.col(c).cast(\"double\").isNotNull(), F.round(F.col(c).cast(\"double\"), 2))\n",
    "         .otherwise(F.col(c))\n",
    "         .alias(c)\n",
    "        for c in desc_act_base.columns\n",
    "    ]\n",
    ")\n",
    "\n",
    "rounded_desc_act.show(truncate=False)"
   ]
  },
  {
   "cell_type": "code",
   "execution_count": null,
   "id": "27cf13be-b301-42d0-9108-8dc4a824e63b",
   "metadata": {},
   "outputs": [],
   "source": [
    "# Добавляем год и месяц\n",
    "actions = actions.withColumn(\"year\", F.year(\"date_from\")).withColumn(\"year_month\", F.date_format(\"date_from\", \"yyyy-MM\"))\n",
    "\n",
    "# Считаем количество промо\n",
    "promo_cnt_month = actions.groupBy(\"year_month\").agg(F.count(\"*\").alias(\"count\")).orderBy(\"year_month\")\n",
    "promo_cnt_year = actions.groupBy(\"year\").agg(F.count(\"*\").alias(\"count\")).orderBy(\"year\")\n",
    "\n",
    "\n",
    "# Подготовка к визуализации\n",
    "promo_cnt_month = promo_cnt_month.toPandas()\n",
    "promo_cnt_month[\"year_month\"] = pd.to_datetime(promo_cnt_month['year_month'])\n",
    "promo_cnt_month = promo_cnt_month.sort_values('year_month')\n",
    "\n",
    "promo_cnt_year = promo_cnt_year.toPandas()\n",
    "\n",
    "# Строим график\n",
    "fig, axes = plt.subplots(2,1, figsize=(12,5), sharey=False)\n",
    "axes[0].bar(promo_cnt_year[\"year\"].astype(str), promo_cnt_year[\"count\"]) \n",
    "axes[1].bar(promo_cnt_month[\"year_month\"], promo_cnt_month[\"count\"], width=20)\n",
    "axes[1].set_xlabel(\"Период (год/месяц)\")\n",
    "\n",
    "plt.suptitle(\"Количество промо по годам/месяцам\", fontsize=14)\n",
    "plt.tight_layout()\n",
    "plt.show()"
   ]
  },
  {
   "cell_type": "code",
   "execution_count": null,
   "id": "7517e859-e376-46e6-80dd-279af7b5586f",
   "metadata": {},
   "outputs": [],
   "source": [
    "print(\"Временной период истории продаж\")\n",
    "actions.select(F.min(\"date_from\"), F.max(\"date_to\")).show()\n",
    "# Можно ещё посмотреть на распределение количества акций по годам\n",
    "print(\"Распределение количества акций по годам\")\n",
    "actions.withColumn(\"year\", F.year(\"date_from\")) \\\n",
    "       .groupBy(\"year\").agg(F.countDistinct(\"promo_id\").alias(\"promos\")).orderBy(\"year\").show()\n",
    "print(\"Распределение количества акций по месяцам\")\n",
    "actions.withColumn(\"year\", F.year(\"date_from\")).withColumn(\"month\", F.month(\"date_from\")) \\\n",
    "       .groupBy(\"year\",\"month\").agg(F.countDistinct(\"promo_id\").alias(\"promos\")).orderBy(\"year\",\"month\").show()"
   ]
  },
  {
   "cell_type": "markdown",
   "id": "b453cc8f-24ad-4fbe-a9d3-26202eacbc10",
   "metadata": {},
   "source": [
    "#### Вопрос №1.1:\n",
    "\n",
    "В конце каждого месяца компания выдает премию для своих курьеров, средняя скорость доставки за прошедший месяц которых больше средней скорости среди всех курьеров. Сколько курьеров получили премию за июнь 2021 года."
   ]
  },
  {
   "cell_type": "code",
   "execution_count": 1,
   "id": "c83f3030-ac01-4d7e-a08e-a9452e385d57",
   "metadata": {},
   "outputs": [
    {
     "name": "stdout",
     "output_type": "stream",
     "text": [
      "Spark Version: 3.5.4\n"
     ]
    }
   ],
   "source": [
    "import pyspark\n",
    "from pyspark.sql import SparkSession\n",
    "spark = SparkSession.builder.appName(\"Test task\").getOrCreate()\n",
    "\n",
    "# Проверка успешного подключения\n",
    "print(\"Spark Version:\", spark.version)"
   ]
  },
  {
   "cell_type": "code",
   "execution_count": 2,
   "id": "fd2066be-74c5-401e-abb2-3e2d75918019",
   "metadata": {},
   "outputs": [],
   "source": [
    "df1 = spark.read.parquet(\"couriers_orders.parquet\")"
   ]
  },
  {
   "cell_type": "code",
   "execution_count": 3,
   "id": "e876dd39-e64e-4210-bc46-115707251a7c",
   "metadata": {},
   "outputs": [
    {
     "name": "stdout",
     "output_type": "stream",
     "text": [
      "+-------------------+----------+--------+--------+-----------+\n",
      "|               date|courier_id|order_id|distance|travel_time|\n",
      "+-------------------+----------+--------+--------+-----------+\n",
      "|2021-07-12 00:00:00|        10|       1|     1.9|      36.17|\n",
      "|2021-07-02 00:00:00|         3|       2|    3.98|      21.34|\n",
      "|2021-04-15 00:00:00|         6|       3|    3.98|      43.33|\n",
      "|2021-07-16 00:00:00|        10|       4|    2.85|      14.01|\n",
      "|2021-06-11 00:00:00|        10|       5|    4.89|      32.09|\n",
      "+-------------------+----------+--------+--------+-----------+\n",
      "only showing top 5 rows\n",
      "\n"
     ]
    }
   ],
   "source": [
    "df1.show(5)"
   ]
  },
  {
   "cell_type": "code",
   "execution_count": 5,
   "id": "a6fe2c34-5582-43d4-80b5-4319109e0234",
   "metadata": {},
   "outputs": [
    {
     "name": "stdout",
     "output_type": "stream",
     "text": [
      "Количество курьеров с премией в июне 2021 года:  6\n"
     ]
    }
   ],
   "source": [
    "from pyspark.sql import functions as F\n",
    "# добавим скорость, а также выделяем год и месяц\n",
    "df1 = df1.withColumn(\"speed\", F.col(\"distance\")/F.col(\"travel_time\"))\n",
    "df1 = df1.withColumn(\"year\", F.year(\"date\")).withColumn(\"month\", F.month(\"date\"))\n",
    "# считаем ср. скорость курьера\n",
    "courier_avg_speed = df1.groupBy(\"year\", \"month\", \"courier_id\").agg(F.avg(\"speed\").alias(\"avg_speed\"))\n",
    "# считаем ср.скорость по всем курьерам\n",
    "overall_avg_speed = courier_avg_speed.groupBy(\"year\", \"month\").agg(F.avg(\"avg_speed\").alias(\"overall_avg_speed\"))\n",
    "#соединяем для сравнения \n",
    "vs_speed = courier_avg_speed.join(\n",
    "    overall_avg_speed,\n",
    "    on = [\"year\", \"month\"],\n",
    "    how = \"inner\"\n",
    ")\n",
    "#фильтруем тех курьеров, у которых средняя скорость была больше  \n",
    "tmp = vs_speed.filter(F.col(\"avg_speed\")>F.col(\"overall_avg_speed\"))\n",
    "# фильтруем конкретный месяц\n",
    "result = tmp.filter(\n",
    "    (F.col(\"year\") == 2021) & (F.col(\"month\") == 6)\n",
    ").select(\"courier_id\").distinct().count()\n",
    "\n",
    "print(\"Количество курьеров с премией в июне 2021 года: \", result)"
   ]
  },
  {
   "cell_type": "markdown",
   "id": "f4f150c7-971e-498d-9772-dbef4ba6a801",
   "metadata": {},
   "source": [
    "#### Вопрос №1.2 (используйте данные из предыдущего вопроса №1.1):\n",
    "\n",
    "Компания хочет понять, насколько равномерно курьеры работают в течение месяца. Для этого нужно найти ID курьера с наибольшей разницей между максимальной и минимальной средней дневной скоростью в июне 2021 года."
   ]
  },
  {
   "cell_type": "code",
   "execution_count": 11,
   "id": "af165e16-3622-4836-9be8-7adcc413129e",
   "metadata": {},
   "outputs": [
    {
     "name": "stdout",
     "output_type": "stream",
     "text": [
      "+----------+------------------+\n",
      "|courier_id|        speed_diff|\n",
      "+----------+------------------+\n",
      "|         4|0.4133767777133771|\n",
      "+----------+------------------+\n",
      "\n"
     ]
    }
   ],
   "source": [
    "df1 = spark.read.parquet(\"couriers_orders.parquet\")\n",
    "df1 = df1.withColumn(\"speed\", F.col(\"distance\")/F.col(\"travel_time\"))\n",
    "month = df1.filter(\n",
    "    (F.col(\"date\") >= \"2021-06-01\") & (F.col(\"date\") <= \"2021-07-01\")\n",
    ")\n",
    "df_day = month.withColumn(\"day\", F.to_date(\"date\"))\n",
    "\n",
    "daily_speed = df_day.groupBy(\"courier_id\", \"day\").agg(\n",
    "    F.avg(\"speed\").alias(\"avg_daily_speed\")\n",
    ")\n",
    "\n",
    "diff = daily_speed.groupBy(\"courier_id\").agg(\n",
    "    (F.max('avg_daily_speed') - F.min(\"avg_daily_speed\")).alias(\"speed_diff\")\n",
    ")\n",
    "\n",
    "result = diff.orderBy(F.col(\"speed_diff\").desc()).limit(1)\n",
    "result.show()"
   ]
  },
  {
   "cell_type": "markdown",
   "id": "092c2623-802f-4821-bd13-2e45f33c5108",
   "metadata": {},
   "source": [
    "У нас есть данные о покупках клиентов purchases.parquet. Проанализируйте интервалы времени между последовательными покупками для каждого клиента в наборе данных о покупках - напишите код для вычисления разницы в днях между текущей покупкой и предыдущей покупкой каждого клиента. Отобразите результат в новом столбце days_between_purchases.\n",
    "\n",
    "\n",
    "#### Вопрос №2.1:\n",
    "\n",
    "Какое количество NaN в столбце days_between_purchases?"
   ]
  },
  {
   "cell_type": "code",
   "execution_count": 12,
   "id": "088cc6ff-e1ee-4a96-b59d-202622e05969",
   "metadata": {},
   "outputs": [],
   "source": [
    "df2 = spark.read.parquet(\"purchases.parquet\")"
   ]
  },
  {
   "cell_type": "code",
   "execution_count": 13,
   "id": "18182e10-e1eb-4f1b-af3a-88389c8c8847",
   "metadata": {},
   "outputs": [
    {
     "name": "stdout",
     "output_type": "stream",
     "text": [
      "+-----------+-------------------+\n",
      "|customer_id|      purchase_date|\n",
      "+-----------+-------------------+\n",
      "|          2|2021-01-01 00:00:00|\n",
      "|          7|2021-01-01 00:00:00|\n",
      "|          7|2021-01-01 00:00:00|\n",
      "|         11|2021-01-01 00:00:00|\n",
      "|         21|2021-01-01 00:00:00|\n",
      "+-----------+-------------------+\n",
      "only showing top 5 rows\n",
      "\n"
     ]
    }
   ],
   "source": [
    "df2.show(5)"
   ]
  },
  {
   "cell_type": "code",
   "execution_count": 14,
   "id": "df24a161-7758-4dc4-8d5e-d98091ea7cce",
   "metadata": {},
   "outputs": [
    {
     "name": "stdout",
     "output_type": "stream",
     "text": [
      "Количество NaN в столбце days_between_purchases:  50\n"
     ]
    }
   ],
   "source": [
    "from pyspark.sql import functions as F\n",
    "from pyspark.sql import Window\n",
    "#оконная функция по каждому клиенту с сортировкой по дате покупки\n",
    "w = Window.partitionBy(\"customer_id\").orderBy(\"purchase_date\")\n",
    "#лагом в окне находим дату предыдущей покупки\n",
    "df2 = df2.withColumn(\"prev_purchase_date\", F.lag(\"purchase_date\").over(w))\n",
    "# находим разницу в днях между покупками\n",
    "df2 = df2.withColumn(\"days_between_purchases\", F.datediff(F.col(\"purchase_date\"),F.col(\"prev_purchase_date\")))\n",
    "# считаем nan в столбце\n",
    "nan_count = df2.filter(F.col(\"days_between_purchases\").isNull()).count()\n",
    "print(\"Количество NaN в столбце days_between_purchases: \", nan_count)"
   ]
  },
  {
   "cell_type": "markdown",
   "id": "31a8f42c-8c01-4874-8204-9320d5824d76",
   "metadata": {},
   "source": [
    "#### Вопрос №2.2 (используйте данные из предыдущего вопроса №2.1):\n",
    "\n",
    "У какого количества уникальных клиентов разница между текущей покупкой и предыдущей покупкой равна 20-ти дням?"
   ]
  },
  {
   "cell_type": "code",
   "execution_count": 16,
   "id": "499b59db-a403-4380-b210-597dc282bbfb",
   "metadata": {},
   "outputs": [
    {
     "name": "stdout",
     "output_type": "stream",
     "text": [
      "Количество уникальных клиентов с разницей между покупками 20 дней:  10\n"
     ]
    }
   ],
   "source": [
    "result = df2.filter(F.col(\"days_between_purchases\") == 20)\n",
    "count_unique_cust = result.select(\"customer_id\").distinct().count()\n",
    "print(\"Количество уникальных клиентов с разницей между покупками 20 дней: \", count_unique_cust)"
   ]
  },
  {
   "cell_type": "code",
   "execution_count": null,
   "id": "65f5f8a6-eb4e-4f48-8a68-671d16598075",
   "metadata": {},
   "outputs": [],
   "source": []
  }
 ],
 "metadata": {
  "kernelspec": {
   "display_name": "Python 3 (ipykernel)",
   "language": "python",
   "name": "python3"
  },
  "language_info": {
   "codemirror_mode": {
    "name": "ipython",
    "version": 3
   },
   "file_extension": ".py",
   "mimetype": "text/x-python",
   "name": "python",
   "nbconvert_exporter": "python",
   "pygments_lexer": "ipython3",
   "version": "3.12.3"
  }
 },
 "nbformat": 4,
 "nbformat_minor": 5
}
